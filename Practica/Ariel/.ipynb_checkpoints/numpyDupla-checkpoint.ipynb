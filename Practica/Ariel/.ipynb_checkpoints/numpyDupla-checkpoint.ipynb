{
 "cells": [
  {
   "cell_type": "code",
   "execution_count": 2,
   "id": "78c13427-8686-4d82-9bf2-a44fc62f3a87",
   "metadata": {},
   "outputs": [],
   "source": [
    "import numpy as np"
   ]
  },
  {
   "cell_type": "markdown",
   "id": "6bebf931-5862-4519-acbe-e03865dc9da9",
   "metadata": {},
   "source": [
    "## 1. Crear una matriz 3x3 con valores del 0 al 8"
   ]
  },
  {
   "cell_type": "code",
   "execution_count": 2,
   "id": "a097ae7b-9f73-46e1-84be-cb0d59df7d4c",
   "metadata": {},
   "outputs": [
    {
     "name": "stdout",
     "output_type": "stream",
     "text": [
      "[[0 1 2]\n",
      " [3 4 5]\n",
      " [6 7 8]]\n"
     ]
    }
   ],
   "source": [
    "z = np.arange(9).reshape(3, 3)\n",
    "print(z)"
   ]
  },
  {
   "cell_type": "markdown",
   "id": "03c71d07-3684-4bc1-aac0-40f8ce1661b4",
   "metadata": {},
   "source": [
    "## 2. Crear una matriz de identidad de 3x3"
   ]
  },
  {
   "cell_type": "code",
   "execution_count": 3,
   "id": "0838e806-cc56-456d-bb68-c749e78006ef",
   "metadata": {},
   "outputs": [
    {
     "name": "stdout",
     "output_type": "stream",
     "text": [
      " identity(n, dtype=None, *, like=None)\n",
      "\n",
      "Return the identity array.\n",
      "\n",
      "The identity array is a square array with ones on\n",
      "the main diagonal.\n",
      "\n",
      "Parameters\n",
      "----------\n",
      "n : int\n",
      "    Number of rows (and columns) in `n` x `n` output.\n",
      "dtype : data-type, optional\n",
      "    Data-type of the output.  Defaults to ``float``.\n",
      "like : array_like, optional\n",
      "    Reference object to allow the creation of arrays which are not\n",
      "    NumPy arrays. If an array-like passed in as ``like`` supports\n",
      "    the ``__array_function__`` protocol, the result will be defined\n",
      "    by it. In this case, it ensures the creation of an array object\n",
      "    compatible with that passed in via this argument.\n",
      "\n",
      "    .. versionadded:: 1.20.0\n",
      "\n",
      "Returns\n",
      "-------\n",
      "out : ndarray\n",
      "    `n` x `n` array with its main diagonal set to one,\n",
      "    and all other elements 0.\n",
      "\n",
      "Examples\n",
      "--------\n",
      ">>> np.identity(3)\n",
      "array([[1.,  0.,  0.],\n",
      "       [0.,  1.,  0.],\n",
      "       [0.,  0.,  1.]])\n"
     ]
    }
   ],
   "source": [
    "np.info(np.identity)"
   ]
  },
  {
   "cell_type": "code",
   "execution_count": 4,
   "id": "a61552d0-b0ea-44b5-a95b-910900cbff33",
   "metadata": {},
   "outputs": [
    {
     "data": {
      "text/plain": [
       "array([[1., 0., 0.],\n",
       "       [0., 1., 0.],\n",
       "       [0., 0., 1.]])"
      ]
     },
     "execution_count": 4,
     "metadata": {},
     "output_type": "execute_result"
    }
   ],
   "source": [
    "np.identity(3)"
   ]
  },
  {
   "cell_type": "markdown",
   "id": "736a50c3-dc78-436d-af7e-7fc420d2bbc2",
   "metadata": {},
   "source": [
    "## 3. Utilizar numpy para geneara un numero aleatorio entre 0 y 1"
   ]
  },
  {
   "cell_type": "code",
   "execution_count": 8,
   "id": "a24530db-356c-4bac-916e-838f6ec69ec1",
   "metadata": {},
   "outputs": [
    {
     "name": "stdout",
     "output_type": "stream",
     "text": [
      "random(size=None)\n",
      "\n",
      "Return random floats in the half-open interval [0.0, 1.0). Alias for\n",
      "`random_sample` to ease forward-porting to the new random API.\n",
      "[0.55862102]\n"
     ]
    }
   ],
   "source": [
    "np.info(np.random.random)\n",
    "print(np.random.random(1))"
   ]
  },
  {
   "cell_type": "code",
   "execution_count": 9,
   "id": "d7c3f9d0-47ea-479a-a6a7-98523ebce912",
   "metadata": {},
   "outputs": [
    {
     "name": "stdout",
     "output_type": "stream",
     "text": [
      "[[0 1 2]\n",
      " [3 4 5]\n",
      " [6 7 8]]\n"
     ]
    }
   ],
   "source": [
    "arr = np.array([[0, 1, 2],[3, 4, 5],[6, 7, 8]])\n",
    "print(arr)"
   ]
  },
  {
   "cell_type": "markdown",
   "id": "bffbeeab-8bdb-40f5-9f38-00d3179e9c01",
   "metadata": {},
   "source": [
    "## 4. Utilizar numpy para generar un arreglo de 25 numeros aleatorioas con una   distribucion normal"
   ]
  },
  {
   "cell_type": "code",
   "execution_count": 13,
   "id": "e193726f-ed30-4249-8c83-2a3e440cd44c",
   "metadata": {},
   "outputs": [
    {
     "name": "stdout",
     "output_type": "stream",
     "text": [
      "[[-0.605328   -0.72703029 -0.63460967  0.47597857  1.09180772]\n",
      " [-0.15349661 -0.40823145  0.47084038 -0.21591427 -0.14889734]\n",
      " [ 0.48661262 -0.41024344 -0.71118188 -2.6777219  -0.96998197]\n",
      " [-0.94838819 -0.74793217 -0.94946748 -0.22017285 -0.80003879]\n",
      " [ 0.56644454 -2.49208599  0.129239    0.03422282  0.95440717]] 25\n"
     ]
    }
   ],
   "source": [
    "z = np.random.randn(5, 5)\n",
    "print(z, z.size)"
   ]
  },
  {
   "cell_type": "markdown",
   "id": "c9df8feb-d554-4697-bd83-b21b10fcff14",
   "metadata": {},
   "source": [
    "## 5. Crear la siguiente matriz"
   ]
  },
  {
   "cell_type": "code",
   "execution_count": 15,
   "id": "1a30e2ed-7afd-4aab-a1bb-8a319e3584a3",
   "metadata": {},
   "outputs": [
    {
     "name": "stdout",
     "output_type": "stream",
     "text": [
      "[[0.   0.01 0.02 0.03 0.04 0.05 0.06 0.07 0.08 0.09]\n",
      " [0.1  0.11 0.12 0.13 0.14 0.15 0.16 0.17 0.18 0.19]\n",
      " [0.2  0.21 0.22 0.23 0.24 0.25 0.26 0.27 0.28 0.29]\n",
      " [0.3  0.31 0.32 0.33 0.34 0.35 0.36 0.37 0.38 0.39]\n",
      " [0.4  0.41 0.42 0.43 0.44 0.45 0.46 0.47 0.48 0.49]\n",
      " [0.5  0.51 0.52 0.53 0.54 0.55 0.56 0.57 0.58 0.59]\n",
      " [0.6  0.61 0.62 0.63 0.64 0.65 0.66 0.67 0.68 0.69]\n",
      " [0.7  0.71 0.72 0.73 0.74 0.75 0.76 0.77 0.78 0.79]\n",
      " [0.8  0.81 0.82 0.83 0.84 0.85 0.86 0.87 0.88 0.89]\n",
      " [0.9  0.91 0.92 0.93 0.94 0.95 0.96 0.97 0.98 0.99]]\n"
     ]
    }
   ],
   "source": [
    "z = np.arange(0, 1, 0.01).reshape(10, 10)\n",
    "print(z)"
   ]
  },
  {
   "cell_type": "markdown",
   "id": "cfaed312-cf05-4329-9739-3e32420ab75b",
   "metadata": {},
   "source": [
    "## 6. Crear un arreglo de 20 valores lineales entre 0 y 1"
   ]
  },
  {
   "cell_type": "code",
   "execution_count": 3,
   "id": "24768cd5-f0a0-46f4-9593-8a2d3ca0e48d",
   "metadata": {},
   "outputs": [
    {
     "name": "stdout",
     "output_type": "stream",
     "text": [
      "[0.91040427 0.34954506 0.26155912 0.61801783 0.25343003 0.85640959\n",
      " 0.08170905 0.7654929  0.05407237 0.35446375 0.586753   0.65263923\n",
      " 0.77088495 0.25696402 0.70462764 0.80355302 0.2773681  0.00442244\n",
      " 0.97625408 0.32799862]\n"
     ]
    }
   ],
   "source": [
    "z = np.random.random(20)\n",
    "print(z)"
   ]
  },
  {
   "cell_type": "markdown",
   "id": "99b7f5cc-ff6a-4594-9dea-3ddcd25947c7",
   "metadata": {},
   "source": [
    "## 7. Generar pares de apellidos y nombres y devolver sus índices. (primero por apellido, luego por nombre).\n"
   ]
  },
  {
   "cell_type": "code",
   "execution_count": 29,
   "id": "d6b23af0-a174-474d-b0bf-da98d6bd1d1f",
   "metadata": {},
   "outputs": [
    {
     "name": "stdout",
     "output_type": "stream",
     "text": [
      "[0 2 1]\n"
     ]
    }
   ],
   "source": [
    "#sort: ordena una sola matriz\n",
    "#lexsort: unir dos o más matrices\n",
    "#orden directo: ('Hertz',    'Galilei', 'Hertz')\n",
    "# al tener dos valores iguales, lo reasigna\n",
    "surnames =    ('Abril'   , 'Zen'  , 'Marcos')  # A - Z ordena los nombres y de output arroja los indices de ese orden\n",
    "first_names = ('Heinrich', 'Angel', 'Gustav')\n",
    "#tercera = ('Jorge', 'Ana', 'Lautaro')\n",
    "ind = np.lexsort((first_names, surnames))\n",
    "print(ind)"
   ]
  },
  {
   "cell_type": "code",
   "execution_count": 39,
   "id": "43bb9f98-15f3-4766-8e36-d32bbfa9557a",
   "metadata": {},
   "outputs": [
    {
     "name": "stdout",
     "output_type": "stream",
     "text": [
      "[2 1 0]\n"
     ]
    }
   ],
   "source": [
    "nombres = ('Hugo','Gonzalo','Hernan')\n",
    "#            0        1         2\n",
    "#loReordena: [1, 2, 0] == [\"Gonzalo\", \"Hernan\", \"Hugo\"]         \n",
    "apellidos =('Hernandez', 'Gonzales', 'Gomez')\n",
    "print (np.lexsort((nombres,apellidos)))\n",
    "\n",
    "#Explicacion Cesar: Ordena alfabeticamente y lo imprime de acuerdo al indice "
   ]
  },
  {
   "cell_type": "markdown",
   "id": "c49f5bbf-f5ea-4095-9116-7f04bafeab6f",
   "metadata": {},
   "source": [
    "|hugo      |gonzales  | hugo\n",
    "|Hernandez |gonzales  | gomez"
   ]
  },
  {
   "cell_type": "code",
   "execution_count": 44,
   "id": "7b6ef1b4-9f89-471c-871c-1909c1673d9b",
   "metadata": {},
   "outputs": [
    {
     "data": {
      "text/plain": [
       "array([4, 1, 0, 3, 2], dtype=int64)"
      ]
     },
     "execution_count": 44,
     "metadata": {},
     "output_type": "execute_result"
    }
   ],
   "source": [
    "dato = (12, 8, 1, 1, 5)\n",
    "dat2 = (1 , 1, 6, 4, 1) #ordena este... y si hay repetido lo compara con la otra\n",
    "np.lexsort((dato, dat2))"
   ]
  },
  {
   "cell_type": "code",
   "execution_count": null,
   "id": "6bf6bcc2-8aec-43cb-ba5a-284f5f535c5d",
   "metadata": {},
   "outputs": [],
   "source": []
  }
 ],
 "metadata": {
  "kernelspec": {
   "display_name": "Python 3 (ipykernel)",
   "language": "python",
   "name": "python3"
  },
  "language_info": {
   "codemirror_mode": {
    "name": "ipython",
    "version": 3
   },
   "file_extension": ".py",
   "mimetype": "text/x-python",
   "name": "python",
   "nbconvert_exporter": "python",
   "pygments_lexer": "ipython3",
   "version": "3.10.5"
  }
 },
 "nbformat": 4,
 "nbformat_minor": 5
}
